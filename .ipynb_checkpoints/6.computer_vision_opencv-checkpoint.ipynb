{
 "cells": [
  {
   "cell_type": "markdown",
   "metadata": {},
   "source": [
    "# Instalação dos módulos"
   ]
  },
  {
   "cell_type": "code",
   "execution_count": null,
   "metadata": {},
   "outputs": [],
   "source": [
    "!pip install numpy\n",
    "!pip install scipy\n",
    "!pip install sklearn\n",
    "!pip install matplotlib\n",
    "!pip install opencv-python\n",
    "!pip install opencv-contrib-python"
   ]
  },
  {
   "cell_type": "markdown",
   "metadata": {},
   "source": [
    "# Importação dos módulos"
   ]
  },
  {
   "cell_type": "code",
   "execution_count": null,
   "metadata": {},
   "outputs": [],
   "source": [
    "import numpy as np\n",
    "import cv2\n",
    "import matplotlib.pyplot as plt\n",
    "from glob import glob\n",
    "\n",
    "from sklearn.cluster import KMeans\n",
    "from sklearn.pipeline import Pipeline\n",
    "from sklearn.preprocessing import StandardScaler\n",
    "from sklearn.linear_model import LogisticRegression\n",
    "from sklearn import cross_validation\n",
    "\n",
    "from scipy.spatial import distance\n",
    "\n",
    "%matplotlib inline"
   ]
  },
  {
   "cell_type": "markdown",
   "metadata": {},
   "source": [
    "# Leitura e impressão de imagem"
   ]
  },
  {
   "cell_type": "code",
   "execution_count": null,
   "metadata": {
    "collapsed": true
   },
   "outputs": [],
   "source": [
    "# Leitura de imagem a partir de arquivo"
   ]
  },
  {
   "cell_type": "code",
   "execution_count": null,
   "metadata": {},
   "outputs": [],
   "source": [
    "# Plot da imagem na tela"
   ]
  },
  {
   "cell_type": "markdown",
   "metadata": {},
   "source": [
    "# Conversão de color spaces"
   ]
  },
  {
   "cell_type": "code",
   "execution_count": null,
   "metadata": {},
   "outputs": [],
   "source": [
    "# Conversão para diferentes color spaces\n",
    "\n",
    "\n",
    "plt.subplot(141)\n",
    "plt.imshow(img_hsv)\n",
    "plt.subplot(142)\n",
    "plt.imshow(img_hls)\n",
    "plt.subplot(143)\n",
    "plt.imshow(img_lab)\n",
    "plt.subplot(144)\n",
    "plt.imshow(img_yuv)"
   ]
  },
  {
   "cell_type": "markdown",
   "metadata": {},
   "source": [
    "# Extração de corners"
   ]
  },
  {
   "cell_type": "code",
   "execution_count": null,
   "metadata": {},
   "outputs": [],
   "source": [
    "# Extração de corners com o detector Harris\n",
    "\n",
    "plt.imshow(corners, cmap='gray')"
   ]
  },
  {
   "cell_type": "markdown",
   "metadata": {},
   "source": [
    "# Extração de features SIFT"
   ]
  },
  {
   "cell_type": "code",
   "execution_count": null,
   "metadata": {
    "collapsed": true
   },
   "outputs": [],
   "source": [
    "# Instanciação do extrator SIFT"
   ]
  },
  {
   "cell_type": "code",
   "execution_count": null,
   "metadata": {
    "collapsed": true
   },
   "outputs": [],
   "source": [
    "# Detecção de keypoints com o extrator SIFT"
   ]
  },
  {
   "cell_type": "code",
   "execution_count": null,
   "metadata": {},
   "outputs": [],
   "source": [
    "img_kp = np.zeros_like(img_bgr)\n",
    "img_kp = cv2.drawKeypoints(img_rgb, kp, img_kp,\n",
    "                          flags=cv2.DRAW_MATCHES_FLAGS_DRAW_RICH_KEYPOINTS)\n",
    "plt.imshow(img_kp)"
   ]
  },
  {
   "cell_type": "code",
   "execution_count": null,
   "metadata": {},
   "outputs": [],
   "source": [
    "# Computação do descritor com o extrator SIFT\n",
    "\n",
    "des.shape"
   ]
  },
  {
   "cell_type": "code",
   "execution_count": null,
   "metadata": {},
   "outputs": [],
   "source": [
    "# Extração e computação em um único passo\n",
    "\n",
    "np.allclose(des, des2)"
   ]
  },
  {
   "cell_type": "markdown",
   "metadata": {},
   "source": [
    "# Extração de features SURF"
   ]
  },
  {
   "cell_type": "code",
   "execution_count": null,
   "metadata": {},
   "outputs": [],
   "source": [
    "# Extração de keypoints com o extrator SURF\n",
    "\n",
    "img_kp = cv2.drawKeypoints(img_rgb, kp, img_kp,\n",
    "                          flags=cv2.DRAW_MATCHES_FLAGS_DRAW_RICH_KEYPOINTS)\n",
    "plt.imshow(img_kp)"
   ]
  },
  {
   "cell_type": "code",
   "execution_count": null,
   "metadata": {},
   "outputs": [],
   "source": [
    "# Computação de descritores com extrator SURF\n",
    "\n",
    "des.shape"
   ]
  },
  {
   "cell_type": "markdown",
   "metadata": {},
   "source": [
    "# Teste de invariância"
   ]
  },
  {
   "cell_type": "code",
   "execution_count": null,
   "metadata": {},
   "outputs": [],
   "source": [
    "img_bgr_lighter = np.where((255 - img_bgr) < 50, 255, img_bgr + 50)\n",
    "img_bgr_darker = np.where((255 + img_bgr) < 50, 0, img_bgr - 50)\n",
    "img_rgb_lighter = cv2.cvtColor(img_bgr_lighter, cv2.COLOR_BGR2RGB)\n",
    "img_rgb_darker = cv2.cvtColor(img_bgr_darker, cv2.COLOR_BGR2RGB)\n",
    "plt.figure(figsize=(12, 6))\n",
    "plt.subplot(131)\n",
    "plt.imshow(img_rgb)\n",
    "plt.subplot(132)\n",
    "plt.imshow(img_rgb_lighter)\n",
    "plt.subplot(133)\n",
    "plt.imshow(img_rgb_darker)"
   ]
  },
  {
   "cell_type": "code",
   "execution_count": null,
   "metadata": {
    "collapsed": true
   },
   "outputs": [],
   "source": [
    "kp_orig, des_orig = sift.detectAndCompute(img_bgr, None)\n",
    "img_kp_orig = np.zeros_like(img_bgr)\n",
    "img_kp_orig = cv2.drawKeypoints(img_rgb, kp_orig, img_kp_orig,\n",
    "                          flags=cv2.DRAW_MATCHES_FLAGS_DRAW_RICH_KEYPOINTS)\n",
    "kp_lighter, des_lighter = sift.detectAndCompute(img_bgr_lighter, None)\n",
    "img_kp_lighter = np.zeros_like(img_bgr_lighter)\n",
    "img_kp_lighter = cv2.drawKeypoints(img_rgb_lighter, kp_lighter, img_kp_lighter,\n",
    "                          flags=cv2.DRAW_MATCHES_FLAGS_DRAW_RICH_KEYPOINTS)\n",
    "kp_darker, des_darker = sift.detectAndCompute(img_bgr_darker, None)\n",
    "img_kp_darker = np.zeros_like(img_bgr_darker)\n",
    "img_kp_darker = cv2.drawKeypoints(img_rgb_darker, kp_darker, img_kp_darker,\n",
    "                          flags=cv2.DRAW_MATCHES_FLAGS_DRAW_RICH_KEYPOINTS)"
   ]
  },
  {
   "cell_type": "code",
   "execution_count": null,
   "metadata": {},
   "outputs": [],
   "source": [
    "plt.figure(figsize=(12, 6))\n",
    "plt.subplot(131)\n",
    "plt.imshow(img_kp_orig)\n",
    "plt.subplot(132)\n",
    "plt.imshow(img_kp_lighter)\n",
    "plt.subplot(133)\n",
    "plt.imshow(img_kp_darker)"
   ]
  },
  {
   "cell_type": "markdown",
   "metadata": {},
   "source": [
    "# Leitura do dataset de imagens"
   ]
  },
  {
   "cell_type": "code",
   "execution_count": null,
   "metadata": {
    "collapsed": true
   },
   "outputs": [],
   "source": [
    "images = glob('./datasets/computer_vision/SimpleImageDataset/*.jpg')"
   ]
  },
  {
   "cell_type": "markdown",
   "metadata": {},
   "source": [
    "# Função de histograma de cores"
   ]
  },
  {
   "cell_type": "code",
   "execution_count": null,
   "metadata": {
    "collapsed": true
   },
   "outputs": [],
   "source": [
    "def chist(im):\n",
    "    # Implementação da função de histograma de cores"
   ]
  },
  {
   "cell_type": "markdown",
   "metadata": {},
   "source": [
    "# Extração de features do dataset"
   ]
  },
  {
   "cell_type": "code",
   "execution_count": null,
   "metadata": {
    "collapsed": true
   },
   "outputs": [],
   "source": [
    "# Extração de features de histograma das imagens do dataset"
   ]
  },
  {
   "cell_type": "markdown",
   "metadata": {},
   "source": [
    "# Pipeline de classificação"
   ]
  },
  {
   "cell_type": "code",
   "execution_count": null,
   "metadata": {
    "collapsed": true
   },
   "outputs": [],
   "source": [
    "clf = Pipeline([('preproc', StandardScaler()),\n",
    "               ('classifier', LogisticRegression())])"
   ]
  },
  {
   "cell_type": "markdown",
   "metadata": {},
   "source": [
    "# Treinamento e validação do modelo"
   ]
  },
  {
   "cell_type": "code",
   "execution_count": null,
   "metadata": {},
   "outputs": [],
   "source": [
    "cv = cross_validation.LeaveOneOut(len(images))\n",
    "scores = cross_validation.cross_val_score(clf, features, labels, cv=cv)\n",
    "print('Accuracy:', scores.mean())"
   ]
  },
  {
   "cell_type": "markdown",
   "metadata": {},
   "source": [
    "# Computação da distância entre features"
   ]
  },
  {
   "cell_type": "code",
   "execution_count": null,
   "metadata": {
    "collapsed": true
   },
   "outputs": [],
   "source": [
    "# Cálculo da matriz de distâncias das imagens"
   ]
  },
  {
   "cell_type": "markdown",
   "metadata": {},
   "source": [
    "# Visualização do vizinho mais próximo"
   ]
  },
  {
   "cell_type": "code",
   "execution_count": null,
   "metadata": {},
   "outputs": [],
   "source": [
    "fig, axes = plt.subplots(2, 9, figsize=(12, 6))\n",
    "for ci, i in enumerate(range(0, 90, 10)):\n",
    "    left = images[i]\n",
    "    dists_left = dists[i]\n",
    "    right = dists_left.argsort()\n",
    "    right = right[1]\n",
    "    right = images[right]\n",
    "    left = cv2.imread(left)\n",
    "    right = cv2.imread(right)\n",
    "    axes[0, ci].imshow(cv2.cvtColor(left, cv2.COLOR_BGR2RGB))\n",
    "    axes[1, ci].imshow(cv2.cvtColor(right, cv2.COLOR_BGR2RGB))\n",
    "fig.show()"
   ]
  },
  {
   "cell_type": "markdown",
   "metadata": {},
   "source": [
    "# Extração de features SURF do dataset"
   ]
  },
  {
   "cell_type": "code",
   "execution_count": null,
   "metadata": {},
   "outputs": [],
   "source": [
    "alldescriptors = []\n",
    "for im in images:\n",
    "    im = cv2.imread(im)\n",
    "    # Extração de features SURF da imagem\n",
    "concatenated = np.concatenate(alldescriptors)\n",
    "print('Number of descriptors:', len(concatenated))"
   ]
  },
  {
   "cell_type": "markdown",
   "metadata": {},
   "source": [
    "# K-means clustering das features"
   ]
  },
  {
   "cell_type": "code",
   "execution_count": null,
   "metadata": {},
   "outputs": [],
   "source": [
    "# K-Means clustering das features SURF"
   ]
  },
  {
   "cell_type": "markdown",
   "metadata": {},
   "source": [
    "# Construção do modelo bag of words"
   ]
  },
  {
   "cell_type": "code",
   "execution_count": null,
   "metadata": {
    "collapsed": true
   },
   "outputs": [],
   "source": [
    "# Modelo bag of words a partir das features SURF"
   ]
  },
  {
   "cell_type": "markdown",
   "metadata": {},
   "source": [
    "# Treinamento e validação do modelo"
   ]
  },
  {
   "cell_type": "code",
   "execution_count": null,
   "metadata": {},
   "outputs": [],
   "source": [
    "scores = cross_validation.cross_val_score(\n",
    "    clf, sfeatures, labels, cv=cv\n",
    ")\n",
    "print('Accuracy:', scores.mean())"
   ]
  }
 ],
 "metadata": {
  "kernelspec": {
   "display_name": "Python 3",
   "language": "python",
   "name": "python3"
  },
  "language_info": {
   "codemirror_mode": {
    "name": "ipython",
    "version": 3
   },
   "file_extension": ".py",
   "mimetype": "text/x-python",
   "name": "python",
   "nbconvert_exporter": "python",
   "pygments_lexer": "ipython3",
   "version": "3.6.0"
  }
 },
 "nbformat": 4,
 "nbformat_minor": 2
}
