{
 "cells": [
  {
   "cell_type": "code",
   "execution_count": null,
   "metadata": {},
   "outputs": [],
   "source": [
    "!pip install matplotlib\n",
    "!pip install sklearn\n",
    "!pip install numpy\n",
    "!pip install scipy\n",
    "!pip install tensorflow\n",
    "!pip install keras"
   ]
  },
  {
   "cell_type": "code",
   "execution_count": null,
   "metadata": {},
   "outputs": [],
   "source": [
    "%matplotlib notebook\n",
    "import matplotlib.pyplot as plt\n",
    "from sklearn.preprocessing import StandardScaler\n",
    "from sklearn.datasets import load_digits"
   ]
  },
  {
   "cell_type": "code",
   "execution_count": null,
   "metadata": {},
   "outputs": [],
   "source": [
    "digits = load_digits()\n",
    "X = digits.data\n",
    "y = digits.target\n",
    "print(X.shape)\n",
    "print(y.shape)\n",
    "x_vars_stdscle = StandardScaler().fit_transform(X)\n",
    "print(x_vars_stdscle.shape)"
   ]
  },
  {
   "cell_type": "code",
   "execution_count": null,
   "metadata": {},
   "outputs": [],
   "source": [
    "from keras.layers import Input, Dense\n",
    "from keras.models import Model"
   ]
  },
  {
   "cell_type": "code",
   "execution_count": null,
   "metadata": {},
   "outputs": [],
   "source": [
    "input_layer = Input(shape=(64, ), name='input')\n",
    "\n",
    "encoded = Dense(32, activation='relu', name='h1encode')(input_layer)\n",
    "encoded = Dense(16, activation='relu', name='h2encode')(encoded)\n",
    "encoded = Dense(3, activation='relu', name='h3latent_layer')(encoded)\n",
    "\n",
    "decoded = Dense(16, activation='relu', name='h4decode')(encoded)\n",
    "decoded = Dense(32, activation='relu', name='h5decode')(decoded)\n",
    "decoded = Dense(64, activation='sigmoid', name='h6decode')(decoded)\n",
    "\n",
    "autoencoder = Model(input_layer, decoded)\n",
    "autoencoder.compile(optimizer='adam', loss='mse')"
   ]
  },
  {
   "cell_type": "code",
   "execution_count": null,
   "metadata": {},
   "outputs": [],
   "source": [
    "autoencoder.fit(x_vars_stdscle, x_vars_stdscle, epochs=100, batch_size=256, shuffle=True, validation_split=0.2)"
   ]
  },
  {
   "cell_type": "code",
   "execution_count": null,
   "metadata": {},
   "outputs": [],
   "source": [
    "encoder = Model(autoencoder.input, autoencoder.get_layer('h3latent_layer').output)"
   ]
  },
  {
   "cell_type": "code",
   "execution_count": null,
   "metadata": {},
   "outputs": [],
   "source": [
    "reduced_X3D = encoder.predict(x_vars_stdscle)"
   ]
  },
  {
   "cell_type": "code",
   "execution_count": null,
   "metadata": {},
   "outputs": [],
   "source": [
    "zero_x, zero_y, zero_z = [], [], []\n",
    "one_x, one_y, one_z = [], [], []\n",
    "two_x, two_y, two_z = [], [], []\n",
    "three_x, three_y, three_z = [], [], []\n",
    "four_x, four_y, four_z = [], [], []\n",
    "five_x, five_y, five_z = [], [], []\n",
    "six_x, six_y, six_z = [], [], []\n",
    "seven_x, seven_y, seven_z = [], [], []\n",
    "eight_x, eight_y, eight_z = [], [], []\n",
    "nine_x, nine_y, nine_z = [], [], []"
   ]
  },
  {
   "cell_type": "code",
   "execution_count": null,
   "metadata": {},
   "outputs": [],
   "source": [
    "for i in range(len(reduced_X3D)):\n",
    "    if y[i] == 10:\n",
    "        continue\n",
    "    elif y[i] == 0:\n",
    "        zero_x.append(reduced_X3D[i][0])\n",
    "        zero_y.append(reduced_X3D[i][1])\n",
    "        zero_z.append(reduced_X3D[i][2])\n",
    "    elif y[i] == 1:\n",
    "        one_x.append(reduced_X3D[i][0])\n",
    "        one_y.append(reduced_X3D[i][1])\n",
    "        one_z.append(reduced_X3D[i][2])\n",
    "    elif y[i] == 2:\n",
    "        two_x.append(reduced_X3D[i][0])\n",
    "        two_y.append(reduced_X3D[i][1])\n",
    "        two_z.append(reduced_X3D[i][2])\n",
    "    elif y[i] == 3:\n",
    "        three_x.append(reduced_X3D[i][0])\n",
    "        three_y.append(reduced_X3D[i][1])\n",
    "        three_z.append(reduced_X3D[i][2])\n",
    "    elif y[i] == 4:\n",
    "        four_x.append(reduced_X3D[i][0])\n",
    "        four_y.append(reduced_X3D[i][1])\n",
    "        four_z.append(reduced_X3D[i][2])\n",
    "    elif y[i] == 5:\n",
    "        five_x.append(reduced_X3D[i][0])\n",
    "        five_y.append(reduced_X3D[i][1])\n",
    "        five_z.append(reduced_X3D[i][2])\n",
    "    elif y[i] == 6:\n",
    "        six_x.append(reduced_X3D[i][0])\n",
    "        six_y.append(reduced_X3D[i][1])\n",
    "        six_z.append(reduced_X3D[i][2])\n",
    "    elif y[i] == 7:\n",
    "        seven_x.append(reduced_X3D[i][0])\n",
    "        seven_y.append(reduced_X3D[i][1])\n",
    "        seven_z.append(reduced_X3D[i][2])\n",
    "    elif y[i] == 8:\n",
    "        eight_x.append(reduced_X3D[i][0])\n",
    "        eight_y.append(reduced_X3D[i][1])\n",
    "        eight_z.append(reduced_X3D[i][2])\n",
    "    elif y[i] == 9:\n",
    "        nine_x.append(reduced_X3D[i][0])\n",
    "        nine_y.append(reduced_X3D[i][1])\n",
    "        nine_z.append(reduced_X3D[i][2])"
   ]
  },
  {
   "cell_type": "code",
   "execution_count": null,
   "metadata": {},
   "outputs": [],
   "source": [
    "from mpl_toolkits.mplot3d import Axes3D\n",
    "fig = plt.figure()\n",
    "ax = fig.add_subplot(111, projection='3d')\n",
    "\n",
    "ax.scatter(zero_x, zero_y, zero_z, c='r', marker='x', label='zero')\n",
    "ax.scatter(one_x, one_y, one_z, c='g', marker='+', label='one')\n",
    "ax.scatter(two_x, two_y, two_z, c='b', marker='s', label='two')\n",
    "ax.scatter(three_x, three_y, three_z, c='m', marker='*', label='three')\n",
    "ax.scatter(four_x, four_y, four_z, c='c', marker='h', label='four')\n",
    "ax.scatter(five_x, five_y, five_z, c='r', marker='D', label='five')\n",
    "ax.scatter(six_x, six_y, six_z, c='y', marker='8', label='six')\n",
    "ax.scatter(seven_x, seven_y, seven_z, c='k', marker='*', label='seven')\n",
    "ax.scatter(eight_x, eight_y, eight_z, c='r', marker='x', label='eight')\n",
    "ax.scatter(nine_x, nine_y, nine_z, c='b', marker='D', label='nine')\n",
    "\n",
    "ax.set_xlabel('Latent Feature 1', fontsize=13)\n",
    "ax.set_ylabel('Latent Feature 2', fontsize=13)\n",
    "ax.set_zlabel('Latent Feature 3', fontsize=13)\n",
    "\n",
    "ax.set_xlim3d(0, 60)\n",
    "plt.legend(loc='upper left', numpoints=1, ncol=3, fontsize=10, bbox_to_anchor=(0, 0))\n",
    "plt.show()"
   ]
  },
  {
   "cell_type": "code",
   "execution_count": null,
   "metadata": {},
   "outputs": [],
   "source": []
  }
 ],
 "metadata": {
  "kernelspec": {
   "display_name": "Python 3",
   "language": "python",
   "name": "python3"
  },
  "language_info": {
   "codemirror_mode": {
    "name": "ipython",
    "version": 3
   },
   "file_extension": ".py",
   "mimetype": "text/x-python",
   "name": "python",
   "nbconvert_exporter": "python",
   "pygments_lexer": "ipython3",
   "version": "3.5.4"
  }
 },
 "nbformat": 4,
 "nbformat_minor": 2
}
