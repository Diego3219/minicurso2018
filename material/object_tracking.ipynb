{
 "cells": [
  {
   "cell_type": "code",
   "execution_count": null,
   "metadata": {},
   "outputs": [],
   "source": [
    "!pip install numpy\n",
    "!pip install opencv-python"
   ]
  },
  {
   "cell_type": "code",
   "execution_count": null,
   "metadata": {},
   "outputs": [],
   "source": [
    "import cv2\n",
    "import numpy as np"
   ]
  },
  {
   "cell_type": "code",
   "execution_count": null,
   "metadata": {},
   "outputs": [],
   "source": [
    "class ObjectTracker(object):\n",
    "    def __init__(self, scaling_factor=0.5):\n",
    "        self.cap = cv2.VideoCapture(0)\n",
    "        _, self.frame = self.cap.read()\n",
    "        self.scaling_factor = scaling_factor\n",
    "        self.frame = cv2.resize(self.frame, None,\n",
    "                               fx=self.scaling_factor, fy=self.scaling_factor,\n",
    "                               interpolation=cv2.INTER_AREA)\n",
    "        cv2.namedWindow('Object Tracker')\n",
    "        cv2.setMouseCallback('Object Tracker', self.mouse_event)\n",
    "        self.selection = None\n",
    "        self.drag_start = None\n",
    "        self.tracking_state = 0\n",
    "        \n",
    "    def mouse_event(self, event, x, y, flags, param):\n",
    "        x, y = np.int16([x, y])\n",
    "        if event == cv2.EVENT_LBUTTONDOWN:\n",
    "            self.drag_start = (x, y)\n",
    "            self.tracking_state = 0\n",
    "        if self.drag_start:\n",
    "            if flags & cv2.EVENT_FLAG_LBUTTON:\n",
    "                h, w = self.frame.shape[:2]\n",
    "                xi, yi = self.drag_start\n",
    "                x0, y0 = np.maximum(0, np.minimum([xi, yi], [x, y]))\n",
    "                x1, y1 = np.minimum([w, h], np.maximum([xi, yi], [x, y]))\n",
    "                self.selection = None\n",
    "                if x1 - x0 > 0  and y1 - y0 > 0:\n",
    "                    self.selection = (x0, y0, x1, y1)\n",
    "            else:\n",
    "                self.drag_start = None\n",
    "                if self.selection is not None:\n",
    "                    self.tracking_state = 1\n",
    "                    \n",
    "    def start_tracking(self):\n",
    "        while True:\n",
    "            _, self.frame = self.cap.read()\n",
    "            self.frame = cv2.resize(self.frame, None,\n",
    "                               fx=self.scaling_factor, fy=self.scaling_factor,\n",
    "                               interpolation=cv2.INTER_AREA)\n",
    "            vis = self.frame.copy()\n",
    "            hsv = cv2.cvtColor(self.frame, cv2.COLOR_BGR2HSV)\n",
    "            mask = cv2.inRange(hsv, np.array((0., 60., 32.)),\n",
    "                              np.array((180., 255., 255.)))\n",
    "            if self.selection:\n",
    "                x0, y0, x1, y1 = self.selection\n",
    "                self.track_window = (x0, y0, x1 - x0, y1 - y0)\n",
    "                hsv_roi = hsv[y0:y1, x0:x1]\n",
    "                mask_roi = mask[y0:y1, x0:x1]\n",
    "                hist = cv2.calcHist( [hsv_roi], [0], mask_roi,\n",
    "                                   [16], [0, 180] )\n",
    "                cv2.normalize(hist, hist, 0, 255, cv2.NORM_MINMAX)\n",
    "                self.hist = hist.reshape(-1)\n",
    "                vis_roi = vis[y0:y1, x0:x1]\n",
    "                cv2.bitwise_not(vis_roi, vis_roi)\n",
    "                vis[mask == 0] = 0\n",
    "                \n",
    "            if self.tracking_state == 1:\n",
    "                self.selection = None\n",
    "                hsv_backproj = cv2.calcBackProject([hsv], [0],\n",
    "                                                  self.hist, [0, 180], 1)\n",
    "                hsv_backproj &= mask\n",
    "                term_crit = (cv2.TERM_CRITERIA_EPS | cv2.TERM_CRITERIA_COUNT, 10, 1)\n",
    "                track_box, self.track_window = cv2.CamShift(hsv_backproj,\n",
    "                                                           self.track_window, term_crit)\n",
    "                cv2.ellipse(vis, track_box, (0, 255, 0), 2)\n",
    "                cv2.imshow('Object Tracker', vis)\n",
    "                \n",
    "            c = cv2.waitKey(5)\n",
    "            if c == 27:\n",
    "                break\n",
    "                \n",
    "        cv2.destroyAllWindows()"
   ]
  },
  {
   "cell_type": "code",
   "execution_count": null,
   "metadata": {},
   "outputs": [],
   "source": [
    "ObjectTracker().start_tracking()"
   ]
  },
  {
   "cell_type": "code",
   "execution_count": null,
   "metadata": {},
   "outputs": [],
   "source": []
  }
 ],
 "metadata": {
  "kernelspec": {
   "display_name": "Python 3",
   "language": "python",
   "name": "python3"
  },
  "language_info": {
   "codemirror_mode": {
    "name": "ipython",
    "version": 3
   },
   "file_extension": ".py",
   "mimetype": "text/x-python",
   "name": "python",
   "nbconvert_exporter": "python",
   "pygments_lexer": "ipython3",
   "version": "3.5.4"
  }
 },
 "nbformat": 4,
 "nbformat_minor": 2
}
