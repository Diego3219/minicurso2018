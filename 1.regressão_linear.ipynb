{
 "cells": [
  {
   "cell_type": "markdown",
   "metadata": {},
   "source": [
    "# Regressão Linear"
   ]
  },
  {
   "cell_type": "code",
   "execution_count": null,
   "metadata": {
    "collapsed": true
   },
   "outputs": [],
   "source": [
    "#instalar as bilbiotecas\n",
    "!pip install numpy\n",
    "!pip install matplotlib\n",
    "!pip install pandas"
   ]
  },
  {
   "cell_type": "markdown",
   "metadata": {},
   "source": [
    "# Exploração dos Dados"
   ]
  },
  {
   "cell_type": "code",
   "execution_count": null,
   "metadata": {
    "collapsed": true
   },
   "outputs": [],
   "source": [
    "#Importar as bibliotecas\n",
    "import numpy as np\n",
    "import matplotlib.pyplot as plt\n",
    "import pandas as pd\n",
    "%matplotlib inline"
   ]
  },
  {
   "cell_type": "code",
   "execution_count": null,
   "metadata": {
    "collapsed": true
   },
   "outputs": [],
   "source": [
    "#carregar os dados utilizando o pandas\n",
    "df = pd.read_csv('datasets/supervised/regressao_linear.csv')\n",
    "df.head()"
   ]
  },
  {
   "cell_type": "code",
   "execution_count": null,
   "metadata": {
    "collapsed": true
   },
   "outputs": [],
   "source": [
    "#vizualização dos dados\n",
    "df.plot(kind='scatter', x='anos_experiencia', y='salario', title='Salário por Experiência')"
   ]
  },
  {
   "cell_type": "code",
   "execution_count": null,
   "metadata": {
    "collapsed": true
   },
   "outputs": [],
   "source": [
    "#tentando achar a melhor linha na mão\n",
    "df.plot(kind='scatter', x='anos_experiencia', y='salario', title='Salário por Experiência')\n",
    "plt.plot([0, 10], [0, 10], color='red', linewidth=3)"
   ]
  },
  {
   "cell_type": "code",
   "execution_count": null,
   "metadata": {
    "collapsed": true
   },
   "outputs": [],
   "source": [
    "#definindo uma função linear\n",
    "def line(x, w=0, b=0):\n",
    "    return ###EQUAÇÃO DA RETA"
   ]
  },
  {
   "cell_type": "code",
   "execution_count": null,
   "metadata": {
    "collapsed": true
   },
   "outputs": [],
   "source": [
    "#coletando os vetores de dados\n",
    "x = df['anos_experiencia']\n",
    "y = df['salario']"
   ]
  },
  {
   "cell_type": "code",
   "execution_count": null,
   "metadata": {
    "collapsed": true
   },
   "outputs": [],
   "source": [
    "#anos de experiência\n",
    "x[:5]"
   ]
  },
  {
   "cell_type": "code",
   "execution_count": null,
   "metadata": {
    "collapsed": true
   },
   "outputs": [],
   "source": [
    "#salário\n",
    "y[:5]"
   ]
  },
  {
   "cell_type": "code",
   "execution_count": null,
   "metadata": {
    "collapsed": true
   },
   "outputs": [],
   "source": [
    "#criando uma \"predição\", definindo w e b na mão\n",
    "yhat = line(x, w=1, b=1)\n",
    "yhat[:5]"
   ]
  },
  {
   "cell_type": "code",
   "execution_count": null,
   "metadata": {
    "collapsed": true
   },
   "outputs": [],
   "source": [
    "#vizualizar a predição\n",
    "plt.plot(x, y, 'bo')\n",
    "plt.plot(x, yhat, 'r-')"
   ]
  },
  {
   "cell_type": "markdown",
   "metadata": {},
   "source": [
    "# Modelo de Regressão Linear"
   ]
  },
  {
   "cell_type": "code",
   "execution_count": null,
   "metadata": {
    "collapsed": true
   },
   "outputs": [],
   "source": [
    "#função que computa o erro dado uma lista de pontos\n",
    "def error_function(b, m, points):\n",
    "    error = 0\n",
    "    for i in range(len(points)):\n",
    "        x = points[i, 0]\n",
    "        y = points[i, 1]\n",
    "        error += ###ERRO QUADRÁTICO\n",
    "    return error / float(len(points))"
   ]
  },
  {
   "cell_type": "code",
   "execution_count": null,
   "metadata": {
    "collapsed": true
   },
   "outputs": [],
   "source": [
    "#Realiza os passos do gradiente\n",
    "def gradient_step(b_current, m_current, points, learning_rate, error_list):\n",
    "    error_list.append(error_function(b_current, m_current, points))\n",
    "    b_gradient = 0\n",
    "    m_gradient = 0\n",
    "    N = float(len(points))\n",
    "    for i in range(int(N)):\n",
    "        x = points[i][0]\n",
    "        y = points[i][1]\n",
    "        b_gradient += ###GRADIENTE DE B\n",
    "        m_gradient += ###GRADIENTE DE M\n",
    "    new_b = ###ATUALIZAÇÃO DE B\n",
    "    new_m = ###ATUALIZAÇÃO DE M\n",
    "    return new_b, new_m"
   ]
  },
  {
   "cell_type": "code",
   "execution_count": null,
   "metadata": {
    "collapsed": true
   },
   "outputs": [],
   "source": [
    "#Descida do gradiente\n",
    "def gradient_descent(points, starting_b,starting_m, learning_rate, num_iteration):\n",
    "    b = starting_b\n",
    "    m = starting_m\n",
    "    error_list = []\n",
    "    for i in range(num_iteration):\n",
    "        b, m = gradient_step(b, m, points, learning_rate, error_list)\n",
    "    return b, m, error_list"
   ]
  },
  {
   "cell_type": "code",
   "execution_count": null,
   "metadata": {
    "collapsed": true
   },
   "outputs": [],
   "source": [
    "#carrengndo valores através do numpy\n",
    "points = np.genfromtxt('datasets/supervised/regressao_linear.csv', skip_header=1, delimiter=',')"
   ]
  },
  {
   "cell_type": "code",
   "execution_count": null,
   "metadata": {
    "collapsed": true
   },
   "outputs": [],
   "source": [
    "#hiperparâmetros para o modelo\n",
    "initial_b = 0\n",
    "initial_m = 0\n",
    "learning_rate = 0.0001\n",
    "epochs = 100"
   ]
  },
  {
   "cell_type": "code",
   "execution_count": null,
   "metadata": {
    "collapsed": true
   },
   "outputs": [],
   "source": [
    "b, m, error_list = gradient_descent(points, initial_b,initial_m,learning_rate, epochs)\n",
    "ideal_b = b\n",
    "ideal_m = m\n",
    "print('b ideal: {}\\nm ideal: {}'.format(ideal_b,ideal_m))"
   ]
  },
  {
   "cell_type": "code",
   "execution_count": null,
   "metadata": {
    "collapsed": true
   },
   "outputs": [],
   "source": [
    "#vizualizando o gráfico de erro\n",
    "for i, error in enumerate(error_list):\n",
    "    if i % 100 == 0:\n",
    "        print(error)\n",
    "plt.plot(error_list)"
   ]
  },
  {
   "cell_type": "code",
   "execution_count": null,
   "metadata": {
    "collapsed": true
   },
   "outputs": [],
   "source": [
    "#vizualizando a linha predita pelo modelo\n",
    "yhat = line(x, w=ideal_m, b=ideal_b)\n",
    "yhat[:5]\n",
    "plt.plot(x, y, 'bo')\n",
    "plt.plot(x, yhat, 'r-')"
   ]
  },
  {
   "cell_type": "code",
   "execution_count": null,
   "metadata": {
    "collapsed": true
   },
   "outputs": [],
   "source": [
    "#algumas predições :D\n",
    "while 1:\n",
    "    hour_you_study = float(input(\"Quantidade de anos com experiência: \"))\n",
    "    print(ideal_m * hour_you_study + ideal_b)\n",
    "    x = int(input(\"0 - sair\\n1 - continuar\\n\"))\n",
    "    if x == 0:\n",
    "        break"
   ]
  },
  {
   "cell_type": "code",
   "execution_count": null,
   "metadata": {
    "collapsed": true
   },
   "outputs": [],
   "source": []
  }
 ],
 "metadata": {
  "kernelspec": {
   "display_name": "Python 3",
   "language": "python",
   "name": "python3"
  },
  "language_info": {
   "codemirror_mode": {
    "name": "ipython",
    "version": 3
   },
   "file_extension": ".py",
   "mimetype": "text/x-python",
   "name": "python",
   "nbconvert_exporter": "python",
   "pygments_lexer": "ipython3",
   "version": "3.6.0"
  }
 },
 "nbformat": 4,
 "nbformat_minor": 2
}
